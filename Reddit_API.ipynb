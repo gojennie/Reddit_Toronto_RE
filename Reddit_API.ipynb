{
 "cells": [
  {
   "cell_type": "code",
   "execution_count": 6,
   "source": [
    "#import libraries\r\n",
    "import requests\r\n",
    "import json"
   ],
   "outputs": [],
   "metadata": {}
  },
  {
   "cell_type": "code",
   "execution_count": 7,
   "source": [
    "#create function to decode our json config file\r\n",
    "def get_keys(path):\r\n",
    "    with open(path) as file:\r\n",
    "        return json.load(file)\r\n",
    "\r\n",
    "keys = get_keys(\"config.json\")\r\n",
    "\r\n",
    "CLIENT = keys['CLIENT_ID']\r\n",
    "SECRET = keys['SECRET_KEY']\r\n",
    "USERNAME = keys['RUSERNAME']\r\n",
    "PASSWORD = keys['RPASSWORD']"
   ],
   "outputs": [],
   "metadata": {}
  },
  {
   "cell_type": "code",
   "execution_count": null,
   "source": [
    "#requests temporary auth token from reddit\r\n",
    "client_auth = requests.auth.HTTPBasicAuth(CLIENT, SECRET)\r\n",
    "\r\n",
    "#log-in using information data from json file\r\n",
    "post_data = {\r\n",
    "    \"grant_type\": \"password\",\r\n",
    "    \"username\": USERNAME,\r\n",
    "    \"password\": PASSWORD,\r\n",
    "    \"redirect_uri\": \"https://github.com/gojennie/reddit_toronto_RE\"\r\n",
    "}"
   ],
   "outputs": [],
   "metadata": {}
  },
  {
   "cell_type": "code",
   "execution_count": null,
   "source": [
    "#identifying version of the API\r\n",
    "headers = {\"User-Agent\": \"Toronto_RE by LeoCatMissing\"}\r\n",
    "\r\n",
    "#send request for OAuth token\r\n",
    "response = requests.post(\"https://www.reddit.com/api/v1/access_token\", auth=client_auth, data=post_data, headers=headers)"
   ],
   "outputs": [],
   "metadata": {}
  }
 ],
 "metadata": {
  "orig_nbformat": 4,
  "language_info": {
   "name": "python",
   "version": "3.7.6",
   "mimetype": "text/x-python",
   "codemirror_mode": {
    "name": "ipython",
    "version": 3
   },
   "pygments_lexer": "ipython3",
   "nbconvert_exporter": "python",
   "file_extension": ".py"
  },
  "kernelspec": {
   "name": "python3",
   "display_name": "Python 3.7.6 64-bit ('base': conda)"
  },
  "interpreter": {
   "hash": "b3ba2566441a7c06988d0923437866b63cedc61552a5af99d1f4fb67d367b25f"
  }
 },
 "nbformat": 4,
 "nbformat_minor": 2
}